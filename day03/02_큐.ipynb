{
 "cells": [
  {
   "cell_type": "markdown",
   "id": "b21292fc",
   "metadata": {},
   "source": [
    "## 큐\n",
    "\n",
    "### 개념\n",
    "\n",
    "#### ADT\n",
    "- `boolean isFull()` : 큐가 가득찼는지 확인\n",
    "- `boolean isEmpty()` : 큐가 비어있는지 확인\n",
    "- `void enQueue(item)` : 큐에 데이터 추출\n",
    "- `item deQueue()` : 큐에서 데이터 추출\n",
    "- `int front` : 큐에서 다음에 추출할 데이터 위치\n",
    "- `int rear` : 큐에서 최근에 추가한 데이터 위치\n",
    "- `item data[maxsize]` : 큐에서 데이터 관리하는 자료구조\n",
    "\n",
    "#### 외부라이브러리\n",
    "- Queue는 외부라이브러리 아주 많음\n",
    "- collections.deque, multiprocessing.Queue, asyncio.Queue, janus, redis-py, kombu, rq..."
   ]
  },
  {
   "cell_type": "code",
   "execution_count": null,
   "id": "4f7f449c",
   "metadata": {},
   "outputs": [],
   "source": [
    "# 구현1\n",
    "queue = []\n",
    "\n",
    "queue.append(3) # enqueue\n",
    "queue.append(6)\n",
    "queue.append(9)"
   ]
  },
  {
   "cell_type": "code",
   "execution_count": 2,
   "id": "24af213c",
   "metadata": {},
   "outputs": [
    {
     "data": {
      "text/plain": [
       "3"
      ]
     },
     "execution_count": 2,
     "metadata": {},
     "output_type": "execute_result"
    }
   ],
   "source": [
    "first_item = queue.pop(0) # dequeue\n",
    "first_item"
   ]
  },
  {
   "cell_type": "code",
   "execution_count": 3,
   "id": "22f702f3",
   "metadata": {},
   "outputs": [
    {
     "data": {
      "text/plain": [
       "[6, 9]"
      ]
     },
     "execution_count": 3,
     "metadata": {},
     "output_type": "execute_result"
    }
   ],
   "source": [
    "queue"
   ]
  },
  {
   "cell_type": "code",
   "execution_count": 4,
   "id": "af8893da",
   "metadata": {},
   "outputs": [],
   "source": [
    "queue.append(11)\n",
    "queue.append(13)"
   ]
  },
  {
   "cell_type": "code",
   "execution_count": 5,
   "id": "028ff722",
   "metadata": {},
   "outputs": [
    {
     "data": {
      "text/plain": [
       "[6, 9, 11, 13]"
      ]
     },
     "execution_count": 5,
     "metadata": {},
     "output_type": "execute_result"
    }
   ],
   "source": [
    "queue"
   ]
  },
  {
   "cell_type": "code",
   "execution_count": 6,
   "id": "09a2be66",
   "metadata": {},
   "outputs": [
    {
     "data": {
      "text/plain": [
       "6"
      ]
     },
     "execution_count": 6,
     "metadata": {},
     "output_type": "execute_result"
    }
   ],
   "source": [
    "queue.pop(0)"
   ]
  },
  {
   "cell_type": "code",
   "execution_count": 7,
   "id": "919f6035",
   "metadata": {},
   "outputs": [
    {
     "data": {
      "text/plain": [
       "[9, 11, 13]"
      ]
     },
     "execution_count": 7,
     "metadata": {},
     "output_type": "execute_result"
    }
   ],
   "source": [
    "queue"
   ]
  },
  {
   "cell_type": "code",
   "execution_count": 9,
   "id": "c67de80d",
   "metadata": {},
   "outputs": [],
   "source": [
    "# 구현 2, deque 사용\n",
    "from collections import deque\n",
    "\n",
    "queue2 = deque()"
   ]
  },
  {
   "cell_type": "code",
   "execution_count": null,
   "id": "96546b73",
   "metadata": {},
   "outputs": [],
   "source": [
    "queue2.append(1) #enqueue\n",
    "queue2.append(3)\n",
    "queue2.append(5)"
   ]
  },
  {
   "cell_type": "code",
   "execution_count": null,
   "id": "446f6f5a",
   "metadata": {},
   "outputs": [],
   "source": [
    "queue2.appendleft(-1) # deque 특징. 양쪽에서 데이터를 추가할 수 있음"
   ]
  },
  {
   "cell_type": "code",
   "execution_count": 12,
   "id": "ff591928",
   "metadata": {},
   "outputs": [
    {
     "data": {
      "text/plain": [
       "deque([-1, 1, 3, 5])"
      ]
     },
     "execution_count": 12,
     "metadata": {},
     "output_type": "execute_result"
    }
   ],
   "source": [
    "queue2"
   ]
  },
  {
   "cell_type": "code",
   "execution_count": null,
   "id": "053306d3",
   "metadata": {},
   "outputs": [
    {
     "data": {
      "text/plain": [
       "5"
      ]
     },
     "execution_count": 14,
     "metadata": {},
     "output_type": "execute_result"
    }
   ],
   "source": [
    "queue2.pop() # 스택형태, 사용하면 안됨"
   ]
  },
  {
   "cell_type": "code",
   "execution_count": 15,
   "id": "0de26207",
   "metadata": {},
   "outputs": [
    {
     "data": {
      "text/plain": [
       "-1"
      ]
     },
     "execution_count": 15,
     "metadata": {},
     "output_type": "execute_result"
    }
   ],
   "source": [
    "queue2.popleft() #dequeue"
   ]
  },
  {
   "cell_type": "markdown",
   "id": "f257bb28",
   "metadata": {},
   "source": [
    "### 성능테스트"
   ]
  },
  {
   "cell_type": "code",
   "execution_count": 17,
   "id": "ac2cc53f",
   "metadata": {},
   "outputs": [],
   "source": [
    "from collections import deque\n",
    "import time\n",
    "\n",
    "lst = list(range(100000))\n",
    "dq = deque(range(100000))"
   ]
  },
  {
   "cell_type": "code",
   "execution_count": 18,
   "id": "3ec75151",
   "metadata": {},
   "outputs": [
    {
     "name": "stdout",
     "output_type": "stream",
     "text": [
      "pop(0)소요시간 : 0.8110568523406982\n"
     ]
    }
   ],
   "source": [
    "# pop(0)\n",
    "start_time = time.time()\n",
    "for i in range(100000):\n",
    "    lst.pop(0)\n",
    "end_time = time.time()\n",
    "print(f'pop(0)소요시간 : {end_time - start_time}')"
   ]
  },
  {
   "cell_type": "code",
   "execution_count": 20,
   "id": "31d1f859",
   "metadata": {},
   "outputs": [
    {
     "name": "stdout",
     "output_type": "stream",
     "text": [
      "pop(0)소요시간 : 0.005482912063598633\n"
     ]
    }
   ],
   "source": [
    "# popleft(0)\n",
    "start_time = time.time()\n",
    "for i in range(100000):\n",
    "    dq.popleft()\n",
    "end_time = time.time()\n",
    "print(f'pop(0)소요시간 : {end_time - start_time}')"
   ]
  },
  {
   "cell_type": "markdown",
   "id": "d19a9658",
   "metadata": {},
   "source": [
    "- queue를 구현할때는 deque를 import해서 구현할 것\n",
    "- 속도차이로 일반리스트로 구현하면 코딩테스트시 불리할 수 있음"
   ]
  },
  {
   "cell_type": "code",
   "execution_count": null,
   "id": "53124c4a",
   "metadata": {},
   "outputs": [],
   "source": []
  }
 ],
 "metadata": {
  "kernelspec": {
   "display_name": "3.11.9",
   "language": "python",
   "name": "python3"
  },
  "language_info": {
   "codemirror_mode": {
    "name": "ipython",
    "version": 3
   },
   "file_extension": ".py",
   "mimetype": "text/x-python",
   "name": "python",
   "nbconvert_exporter": "python",
   "pygments_lexer": "ipython3",
   "version": "3.11.9"
  }
 },
 "nbformat": 4,
 "nbformat_minor": 5
}
